{
 "cells": [
  {
   "cell_type": "markdown",
   "metadata": {},
   "source": [
    "1.  Create a 3x3 NumPy array with random integers between 1 and 100. Then, interchange its rows and columns"
   ]
  },
  {
   "cell_type": "code",
   "execution_count": 1,
   "metadata": {},
   "outputs": [
    {
     "name": "stdout",
     "output_type": "stream",
     "text": [
      "Original array:\n",
      "[[64 74 28]\n",
      " [ 7 47 49]\n",
      " [64 10 10]]\n",
      "Interchanged array:\n",
      "[[64  7 64]\n",
      " [74 47 10]\n",
      " [28 49 10]]\n"
     ]
    }
   ],
   "source": [
    "import numpy as np\n",
    "\n",
    "# Create a 3x3 NumPy array with random integers between 1 and 100\n",
    "array = np.random.randint(1, 101, (3, 3))\n",
    "\n",
    "# Print the original array\n",
    "print(\"Original array:\")\n",
    "print(array)\n",
    "\n",
    "# Interchange rows and columns\n",
    "interchanged_array = array.T\n",
    "\n",
    "# Print the interchanged array\n",
    "print(\"Interchanged array:\")\n",
    "print(interchanged_array)"
   ]
  },
  {
   "cell_type": "markdown",
   "metadata": {},
   "source": [
    "2.  Generate a 1D NumPy array with 10 elements. Reshape it into a 2x5 array, then into a 5x2 array."
   ]
  },
  {
   "cell_type": "code",
   "execution_count": 2,
   "metadata": {},
   "outputs": [
    {
     "name": "stdout",
     "output_type": "stream",
     "text": [
      "Original array:\n",
      "[60 79 30 53 81 91 70 71 24 47]\n",
      "Reshaped into 2x5 array:\n",
      "[[60 79 30 53 81]\n",
      " [91 70 71 24 47]]\n",
      "Reshaped into 5x2 array:\n",
      "[[60 79]\n",
      " [30 53]\n",
      " [81 91]\n",
      " [70 71]\n",
      " [24 47]]\n"
     ]
    }
   ],
   "source": [
    "import numpy as np\n",
    "\n",
    "# Generate a 1D NumPy array with 10 elements\n",
    "array = np.random.randint(1, 101, 10)\n",
    "\n",
    "# Print the original array\n",
    "print(\"Original array:\")\n",
    "print(array)\n",
    "\n",
    "# Reshape it into a 2x5 array\n",
    "array_2x5 = array.reshape(2, 5)\n",
    "\n",
    "# Print the 2x5 array\n",
    "print(\"Reshaped into 2x5 array:\")\n",
    "print(array_2x5)\n",
    "\n",
    "# Reshape it into a 5x2 array\n",
    "array_5x2 = array.reshape(5, 2)\n",
    "\n",
    "# Print the 5x2 array\n",
    "print(\"Reshaped into 5x2 array:\")\n",
    "print(array_5x2)"
   ]
  },
  {
   "cell_type": "markdown",
   "metadata": {},
   "source": [
    "3. Create a 4x4 NumPy array with random float values. Add a border of zeros around it, resulting in a 6x6 array."
   ]
  },
  {
   "cell_type": "code",
   "execution_count": 3,
   "metadata": {},
   "outputs": [
    {
     "name": "stdout",
     "output_type": "stream",
     "text": [
      "[[0.         0.         0.         0.         0.         0.        ]\n",
      " [0.         0.26072181 0.49636738 0.40044481 0.84845034 0.        ]\n",
      " [0.         0.51775326 0.27016083 0.24198932 0.24445426 0.        ]\n",
      " [0.         0.51468738 0.09659273 0.75028961 0.85143913 0.        ]\n",
      " [0.         0.1717875  0.52131788 0.82862323 0.70220166 0.        ]\n",
      " [0.         0.         0.         0.         0.         0.        ]]\n"
     ]
    }
   ],
   "source": [
    "import numpy as np\n",
    "\n",
    "# Create a 4x4 NumPy array with random float values\n",
    "array = np.random.rand(4, 4)\n",
    "\n",
    "# Add a border of zeros around it\n",
    "bordered_array = np.pad(array, pad_width=1, mode='constant', constant_values=0)\n",
    "\n",
    "# Print the resulting 6x6 array\n",
    "print(bordered_array)"
   ]
  },
  {
   "cell_type": "markdown",
   "metadata": {},
   "source": [
    "4. Using NumPy, create an array of integers from 10 to 60 with a step of 5."
   ]
  },
  {
   "cell_type": "code",
   "execution_count": 4,
   "metadata": {},
   "outputs": [
    {
     "name": "stdout",
     "output_type": "stream",
     "text": [
      "[10 15 20 25 30 35 40 45 50 55 60]\n"
     ]
    }
   ],
   "source": [
    "import numpy as np\n",
    "\n",
    "array = np.arange(10, 61, 5)\n",
    "print(array)"
   ]
  },
  {
   "cell_type": "markdown",
   "metadata": {},
   "source": [
    "5.  Create a NumPy array of strings ['python', 'numpy', 'pandas']. Apply different case transformations \n",
    "(uppercase, lowercase, title case, etc.) to each element."
   ]
  },
  {
   "cell_type": "code",
   "execution_count": 8,
   "metadata": {},
   "outputs": [
    {
     "name": "stdout",
     "output_type": "stream",
     "text": [
      "Original Array:        ['python' 'numpy' 'pandas']\n",
      "Uppercase Array:       ['PYTHON' 'NUMPY' 'PANDAS']\n",
      "Lowercase Array:       ['python' 'numpy' 'pandas']\n",
      "Title Case Array:      ['Python' 'Numpy' 'Pandas']\n",
      "Capitalize Array:      ['Python' 'Numpy' 'Pandas']\n",
      "Swapcase Array:        ['PYTHON' 'NUMPY' 'PANDAS']\n"
     ]
    }
   ],
   "source": [
    "import numpy as np\n",
    "\n",
    "# Create a NumPy array of strings\n",
    "strings = np.array(['python', 'numpy', 'pandas'])\n",
    "\n",
    "# Apply different case transformations\n",
    "uppercase_arr = np.char.upper(strings)\n",
    "lowercase_arr = np.char.lower(strings)\n",
    "titlecase_arr = np.char.title(strings)\n",
    "capitalize_arr = np.char.capitalize(strings)\n",
    "swapcase_arr = np.char.swapcase(strings)\n",
    "\n",
    "# Print the results\n",
    "print(\"Original Array:       \", strings)\n",
    "print(\"Uppercase Array:      \", uppercase_arr)\n",
    "print(\"Lowercase Array:      \", lowercase_arr)\n",
    "print(\"Title Case Array:     \", titlecase_arr)\n",
    "print(\"Capitalize Array:     \", capitalize_arr)\n",
    "print(\"Swapcase Array:       \", swapcase_arr)\n"
   ]
  },
  {
   "cell_type": "markdown",
   "metadata": {},
   "source": [
    "6.  Generate a NumPy array of words. Insert a space between each character of every word in the array"
   ]
  },
  {
   "cell_type": "code",
   "execution_count": 9,
   "metadata": {},
   "outputs": [
    {
     "name": "stdout",
     "output_type": "stream",
     "text": [
      "Original Array:  ['python' 'numpy' 'pandas']\n",
      "Spaced Words Array:  ['p y t h o n' 'n u m p y' 'p a n d a s']\n"
     ]
    }
   ],
   "source": [
    "import numpy as np\n",
    "\n",
    "# Define the array of words\n",
    "words = np.array(['python', 'numpy', 'pandas'])\n",
    "\n",
    "# Insert a space between each character of every word\n",
    "spaced_words = np.char.join(' ', words)\n",
    "\n",
    "# Print the results\n",
    "print(\"Original Array: \", words)\n",
    "print(\"Spaced Words Array: \", spaced_words)"
   ]
  },
  {
   "cell_type": "markdown",
   "metadata": {},
   "source": [
    "7.  Create two 2D NumPy arrays and perform element-wise addition, subtraction, multiplication, and division."
   ]
  },
  {
   "cell_type": "code",
   "execution_count": 10,
   "metadata": {},
   "outputs": [
    {
     "name": "stdout",
     "output_type": "stream",
     "text": [
      "Array 1:\n",
      "[[1 2 3]\n",
      " [4 5 6]]\n",
      "\n",
      "Array 2:\n",
      "[[ 7  8  9]\n",
      " [10 11 12]]\n",
      "\n",
      "Element-wise Addition:\n",
      "[[ 8 10 12]\n",
      " [14 16 18]]\n",
      "\n",
      "Element-wise Subtraction:\n",
      "[[-6 -6 -6]\n",
      " [-6 -6 -6]]\n",
      "\n",
      "Element-wise Multiplication:\n",
      "[[ 7 16 27]\n",
      " [40 55 72]]\n",
      "\n",
      "Element-wise Division:\n",
      "[[0.14285714 0.25       0.33333333]\n",
      " [0.4        0.45454545 0.5       ]]\n"
     ]
    }
   ],
   "source": [
    "import numpy as np\n",
    "\n",
    "# Create two 2D NumPy arrays\n",
    "array1 = np.array([[1, 2, 3], [4, 5, 6]])\n",
    "array2 = np.array([[7, 8, 9], [10, 11, 12]])\n",
    "\n",
    "# Perform element-wise operations\n",
    "addition = array1 + array2\n",
    "subtraction = array1 - array2\n",
    "multiplication = array1 * array2\n",
    "division = array1 / array2\n",
    "\n",
    "# Print the results\n",
    "print(\"Array 1:\")\n",
    "print(array1)\n",
    "print(\"\\nArray 2:\")\n",
    "print(array2)\n",
    "print(\"\\nElement-wise Addition:\")\n",
    "print(addition)\n",
    "print(\"\\nElement-wise Subtraction:\")\n",
    "print(subtraction)\n",
    "print(\"\\nElement-wise Multiplication:\")\n",
    "print(multiplication)\n",
    "print(\"\\nElement-wise Division:\")\n",
    "print(division)"
   ]
  },
  {
   "cell_type": "markdown",
   "metadata": {},
   "source": [
    "8.  Use NumPy to create a 5x5 identity matrix, then extract its diagonal elements"
   ]
  },
  {
   "cell_type": "code",
   "execution_count": 11,
   "metadata": {},
   "outputs": [
    {
     "name": "stdout",
     "output_type": "stream",
     "text": [
      "5x5 Identity Matrix:\n",
      "[[1. 0. 0. 0. 0.]\n",
      " [0. 1. 0. 0. 0.]\n",
      " [0. 0. 1. 0. 0.]\n",
      " [0. 0. 0. 1. 0.]\n",
      " [0. 0. 0. 0. 1.]]\n",
      "\n",
      "Diagonal Elements:\n",
      "[1. 1. 1. 1. 1.]\n"
     ]
    }
   ],
   "source": [
    "import numpy as np\n",
    "\n",
    "# Create a 5x5 identity matrix\n",
    "identity_matrix = np.eye(5)\n",
    "\n",
    "# Extract the diagonal elements\n",
    "diagonal_elements = np.diag(identity_matrix)\n",
    "\n",
    "# Print the results\n",
    "print(\"5x5 Identity Matrix:\")\n",
    "print(identity_matrix)\n",
    "print(\"\\nDiagonal Elements:\")\n",
    "print(diagonal_elements)"
   ]
  },
  {
   "cell_type": "markdown",
   "metadata": {},
   "source": [
    "9.  Generate a NumPy array of 100 random integers between 0 and 1000. Find and display all prime numbers in \n",
    "this array."
   ]
  },
  {
   "cell_type": "code",
   "execution_count": 12,
   "metadata": {},
   "outputs": [
    {
     "name": "stdout",
     "output_type": "stream",
     "text": [
      "Random Integers:\n",
      "[246 105 795 163  21 515 164 712 718 834  50 390 969 778 102 353 390 765\n",
      " 619 514 799 607 884 359 635 313 252 449 817  25 447 807 822 571 505 801\n",
      " 900 852 381 963  38 263 299 597 235 210 449 119 206  96 152  87 620  89\n",
      " 871 102 966 247 529 332 976 392  22 571 438 607 944  92 850 210 874 394\n",
      " 744  65 344 960 767 394 525 912 512 885  97 307 759 135 432 441 900 659\n",
      " 704 497 548 939 997 950 534 104 301 245]\n",
      "\n",
      "Prime Numbers:\n",
      "[163 353 619 607 359 313 449 571 263 449  89 571 607  97 307 659 997]\n"
     ]
    }
   ],
   "source": [
    "import numpy as np\n",
    "\n",
    "# Generate an array of 100 random integers between 0 and 1000\n",
    "random_integers = np.random.randint(0, 1001, size=100)\n",
    "\n",
    "# Define a function to check if a number is prime\n",
    "def is_prime(n):\n",
    "    \"\"\"Return True if n is a prime number, else False.\"\"\"\n",
    "    if n <= 1:\n",
    "        return False\n",
    "    if n <= 3:\n",
    "        return True\n",
    "    if n % 2 == 0 or n % 3 == 0:\n",
    "        return False\n",
    "    i = 5\n",
    "    while i * i <= n:\n",
    "        if n % i == 0 or n % (i + 2) == 0:\n",
    "            return False\n",
    "        i += 6\n",
    "    return True\n",
    "\n",
    "# Find prime numbers in the array\n",
    "primes = np.array([x for x in random_integers if is_prime(x)])\n",
    "\n",
    "# Print the results\n",
    "print(\"Random Integers:\")\n",
    "print(random_integers)\n",
    "print(\"\\nPrime Numbers:\")\n",
    "print(primes)"
   ]
  },
  {
   "cell_type": "markdown",
   "metadata": {},
   "source": [
    "10.  Create a NumPy array representing daily temperatures for a month. Calculate and display the weekly \n",
    "averages "
   ]
  },
  {
   "cell_type": "code",
   "execution_count": 13,
   "metadata": {},
   "outputs": [
    {
     "name": "stdout",
     "output_type": "stream",
     "text": [
      "Weekly averages: [72.0, 73.0, 71.85714285714286, 76.85714285714286]\n"
     ]
    }
   ],
   "source": [
    "import numpy as np\n",
    "\n",
    "# Create a NumPy array representing daily temperatures for a month (assuming 30 days)\n",
    "daily_temperatures = np.random.randint(60, 90, 30)\n",
    "\n",
    "# Calculate weekly averages\n",
    "weekly_averages = []\n",
    "for week in range(4):\n",
    "  start_index = week * 7\n",
    "  end_index = (week + 1) * 7 - 1\n",
    "  weekly_average = np.mean(daily_temperatures[start_index:end_index + 1])\n",
    "  weekly_averages.append(weekly_average)\n",
    "\n",
    "# Print the weekly averages\n",
    "print(\"Weekly averages:\", weekly_averages)"
   ]
  },
  {
   "cell_type": "code",
   "execution_count": null,
   "metadata": {},
   "outputs": [],
   "source": []
  }
 ],
 "metadata": {
  "kernelspec": {
   "display_name": "base",
   "language": "python",
   "name": "python3"
  },
  "language_info": {
   "codemirror_mode": {
    "name": "ipython",
    "version": 3
   },
   "file_extension": ".py",
   "mimetype": "text/x-python",
   "name": "python",
   "nbconvert_exporter": "python",
   "pygments_lexer": "ipython3",
   "version": "3.11.5"
  }
 },
 "nbformat": 4,
 "nbformat_minor": 2
}
