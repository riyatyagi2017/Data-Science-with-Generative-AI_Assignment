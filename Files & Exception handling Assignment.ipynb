{
 "cells": [
  {
   "cell_type": "raw",
   "metadata": {},
   "source": [
    "Q.2"
   ]
  },
  {
   "cell_type": "code",
   "execution_count": 1,
   "metadata": {},
   "outputs": [
    {
     "name": "stdout",
     "output_type": "stream",
     "text": [
      "[1, 4, 9, 16, 25]\n"
     ]
    }
   ],
   "source": [
    "import multiprocessing\n",
    "\n",
    "def worker_function(x):\n",
    "    return x * x\n",
    "\n",
    "if __name__ == '__main__':\n",
    "    with multiprocessing.Pool(processes=4) as pool:\n",
    "        results = pool.map(worker_function, [1, 2, 3, 4, 5])\n",
    "    print(results)"
   ]
  },
  {
   "cell_type": "raw",
   "metadata": {},
   "source": [
    "Q.4"
   ]
  },
  {
   "cell_type": "code",
   "execution_count": 2,
   "metadata": {},
   "outputs": [
    {
     "name": "stdout",
     "output_type": "stream",
     "text": [
      "Added 75 to list. Current list: [75]\n",
      "Removed 75 from list. Current list: []\n",
      "Added 34 to list. Current list: [34]\n",
      "Removed 34 from list. Current list: []\n",
      "Added 18 to list. Current list: [18]\n",
      "Removed 18 from list. Current list: []\n",
      "List is empty, nothing to remove.\n",
      "Added 40 to list. Current list: [40]\n",
      "Added 65 to list. Current list: [40, 65]\n",
      "Removed 40 from list. Current list: [65]\n",
      "Added 75 to list. Current list: [65, 75]\n",
      "Removed 65 from list. Current list: [75]\n",
      "Added 56 to list. Current list: [75, 56]\n",
      "Removed 75 from list. Current list: [56]\n",
      "Added 2 to list. Current list: [56, 2]\n",
      "Removed 56 from list. Current list: [2]\n",
      "Added 1 to list. Current list: [2, 1]\n",
      "Removed 2 from list. Current list: [1]\n",
      "Added 14 to list. Current list: [1, 14]\n",
      "Removed 1 from list. Current list: [14]\n",
      "Final list state: [14]\n"
     ]
    }
   ],
   "source": [
    "import threading\n",
    "import time\n",
    "import random\n",
    "\n",
    "# Shared list and lock\n",
    "shared_list = []\n",
    "list_lock = threading.Lock()\n",
    "\n",
    "def add_numbers():\n",
    "    global shared_list\n",
    "    for _ in range(10):\n",
    "        number = random.randint(1, 100)\n",
    "        with list_lock:\n",
    "            shared_list.append(number)\n",
    "            print(f\"Added {number} to list. Current list: {shared_list}\")\n",
    "        time.sleep(random.uniform(0.1, 0.5))\n",
    "\n",
    "def remove_numbers():\n",
    "    global shared_list\n",
    "    for _ in range(10):\n",
    "        with list_lock:\n",
    "            if shared_list:\n",
    "                removed_number = shared_list.pop(0)\n",
    "                print(f\"Removed {removed_number} from list. Current list: {shared_list}\")\n",
    "            else:\n",
    "                print(\"List is empty, nothing to remove.\")\n",
    "        time.sleep(random.uniform(0.1, 0.5))\n",
    "\n",
    "# Create threads\n",
    "add_thread = threading.Thread(target=add_numbers)\n",
    "remove_thread = threading.Thread(target=remove_numbers)\n",
    "\n",
    "# Start threads\n",
    "add_thread.start()\n",
    "remove_thread.start()\n",
    "\n",
    "# Wait for threads to complete\n",
    "add_thread.join()\n",
    "remove_thread.join()\n",
    "\n",
    "print(\"Final list state:\", shared_list)\n"
   ]
  },
  {
   "cell_type": "raw",
   "metadata": {},
   "source": [
    "Q.5"
   ]
  },
  {
   "cell_type": "code",
   "execution_count": 3,
   "metadata": {},
   "outputs": [],
   "source": [
    "import threading\n",
    "\n",
    "lock = threading.Lock()\n",
    "\n",
    "def thread_function():\n",
    "    with lock:\n",
    "        # Critical section of code\n",
    "        pass\n"
   ]
  },
  {
   "cell_type": "code",
   "execution_count": 4,
   "metadata": {},
   "outputs": [],
   "source": [
    "import threading\n",
    "\n",
    "rlock = threading.RLock()\n",
    "\n",
    "def thread_function():\n",
    "    with rlock:\n",
    "        # Critical section of code\n",
    "        with rlock:\n",
    "            # Nested critical section\n",
    "            pass\n"
   ]
  },
  {
   "cell_type": "code",
   "execution_count": 5,
   "metadata": {},
   "outputs": [],
   "source": [
    "import threading\n",
    "\n",
    "semaphore = threading.Semaphore(2)  # Allow up to 2 threads at a time\n",
    "\n",
    "def thread_function():\n",
    "    with semaphore:\n",
    "        # Critical section of code\n",
    "        pass\n"
   ]
  },
  {
   "cell_type": "code",
   "execution_count": 6,
   "metadata": {},
   "outputs": [],
   "source": [
    "import threading\n",
    "\n",
    "event = threading.Event()\n",
    "\n",
    "def thread_function():\n",
    "    event.wait()  # Wait until the event is set\n",
    "    # Proceed with critical section\n"
   ]
  },
  {
   "cell_type": "code",
   "execution_count": 7,
   "metadata": {},
   "outputs": [],
   "source": [
    "from multiprocessing import Lock\n",
    "\n",
    "lock = Lock()\n",
    "\n",
    "def process_function():\n",
    "    with lock:\n",
    "        # Critical section of code\n",
    "        pass\n"
   ]
  },
  {
   "cell_type": "code",
   "execution_count": 8,
   "metadata": {},
   "outputs": [],
   "source": [
    "from multiprocessing import Semaphore\n",
    "\n",
    "semaphore = Semaphore(2)  # Allow up to 2 processes at a time\n",
    "\n",
    "def process_function():\n",
    "    with semaphore:\n",
    "        # Critical section of code\n",
    "        pass\n"
   ]
  },
  {
   "cell_type": "code",
   "execution_count": 9,
   "metadata": {},
   "outputs": [],
   "source": [
    "from multiprocessing import Event\n",
    "\n",
    "event = Event()\n",
    "\n",
    "def process_function():\n",
    "    event.wait()  # Wait until the event is set\n",
    "    # Proceed with critical section\n"
   ]
  },
  {
   "cell_type": "code",
   "execution_count": 10,
   "metadata": {},
   "outputs": [],
   "source": [
    "import queue\n",
    "import threading\n",
    "\n",
    "q = queue.Queue()\n",
    "\n",
    "def producer():\n",
    "    q.put(item)\n",
    "\n",
    "def consumer():\n",
    "    item = q.get()\n"
   ]
  },
  {
   "cell_type": "code",
   "execution_count": 11,
   "metadata": {},
   "outputs": [],
   "source": [
    "from multiprocessing import Queue\n",
    "\n",
    "q = Queue()\n",
    "\n",
    "def producer():\n",
    "    q.put(item)\n",
    "\n",
    "def consumer():\n",
    "    item = q.get()\n"
   ]
  },
  {
   "cell_type": "code",
   "execution_count": 12,
   "metadata": {},
   "outputs": [],
   "source": [
    "from multiprocessing import Value, Array\n",
    "\n",
    "shared_value = Value('i', 0)  # Shared integer\n",
    "shared_array = Array('i', [0, 0, 0])  # Shared array\n",
    "\n",
    "def process_function():\n",
    "    with shared_value.get_lock():\n",
    "        shared_value.value += 1\n",
    "    # or\n",
    "    with shared_array.get_lock():\n",
    "        shared_array[0] += 1\n"
   ]
  },
  {
   "cell_type": "raw",
   "metadata": {},
   "source": [
    "Q.6"
   ]
  },
  {
   "cell_type": "code",
   "execution_count": 13,
   "metadata": {},
   "outputs": [],
   "source": [
    "import threading\n",
    "\n",
    "def thread_function():\n",
    "    try:\n",
    "        # Code that might raise an exception\n",
    "        pass\n",
    "    except Exception as e:\n",
    "        # Handle exception\n",
    "        print(f\"Exception occurred: {e}\")\n",
    "\n",
    "thread = threading.Thread(target=thread_function)\n",
    "thread.start()\n",
    "thread.join()\n"
   ]
  },
  {
   "cell_type": "code",
   "execution_count": 14,
   "metadata": {},
   "outputs": [],
   "source": [
    "from multiprocessing import Process\n",
    "\n",
    "def process_function():\n",
    "    try:\n",
    "        # Code that might raise an exception\n",
    "        pass\n",
    "    except Exception as e:\n",
    "        # Handle exception\n",
    "        print(f\"Exception occurred: {e}\")\n",
    "\n",
    "process = Process(target=process_function)\n",
    "process.start()\n",
    "process.join()\n"
   ]
  },
  {
   "cell_type": "code",
   "execution_count": 15,
   "metadata": {},
   "outputs": [],
   "source": [
    "import logging\n",
    "import threading\n",
    "\n",
    "logging.basicConfig(level=logging.ERROR)\n",
    "\n",
    "def thread_function():\n",
    "    try:\n",
    "        # Code that might raise an exception\n",
    "        pass\n",
    "    except Exception as e:\n",
    "        logging.error(f\"Exception occurred: {e}\")\n",
    "\n",
    "thread = threading.Thread(target=thread_function)\n",
    "thread.start()\n",
    "thread.join()\n"
   ]
  },
  {
   "cell_type": "raw",
   "metadata": {},
   "source": [
    "Q.7"
   ]
  },
  {
   "cell_type": "code",
   "execution_count": 16,
   "metadata": {},
   "outputs": [
    {
     "name": "stdout",
     "output_type": "stream",
     "text": [
      "Factorial of 4 is 24\n",
      "Factorial of 10 is 3628800\n",
      "Factorial of 7 is 5040\n",
      "Factorial of 6 is 720\n",
      "Factorial of 8 is 40320\n",
      "Factorial of 5 is 120\n",
      "Factorial of 1 is 1\n",
      "Factorial of 9 is 362880\n",
      "Factorial of 2 is 2\n",
      "Factorial of 3 is 6\n"
     ]
    }
   ],
   "source": [
    "import concurrent.futures\n",
    "import math\n",
    "\n",
    "# Function to calculate the factorial of a number\n",
    "def factorial(n):\n",
    "    return math.factorial(n)\n",
    "\n",
    "# Main function to use ThreadPoolExecutor to calculate factorials concurrently\n",
    "def main():\n",
    "    numbers = list(range(1, 11))  # Numbers from 1 to 10\n",
    "\n",
    "    # Create a ThreadPoolExecutor with a pool size of 5\n",
    "    with concurrent.futures.ThreadPoolExecutor(max_workers=5) as executor:\n",
    "        # Submit factorial tasks to the thread pool\n",
    "        future_to_number = {executor.submit(factorial, num): num for num in numbers}\n",
    "        \n",
    "        # Collect and print results as they become available\n",
    "        for future in concurrent.futures.as_completed(future_to_number):\n",
    "            num = future_to_number[future]\n",
    "            try:\n",
    "                result = future.result()\n",
    "                print(f\"Factorial of {num} is {result}\")\n",
    "            except Exception as exc:\n",
    "                print(f\"Factorial of {num} generated an exception: {exc}\")\n",
    "\n",
    "if __name__ == \"__main__\":\n",
    "    main()\n"
   ]
  },
  {
   "cell_type": "raw",
   "metadata": {},
   "source": [
    "Q.8"
   ]
  },
  {
   "cell_type": "code",
   "execution_count": 17,
   "metadata": {},
   "outputs": [
    {
     "name": "stdout",
     "output_type": "stream",
     "text": [
      "Pool size: 1\n",
      "Results: [1, 4, 9, 16, 25, 36, 49, 64, 81, 100]\n",
      "Time taken: 0.0163 seconds\n",
      "\n",
      "Pool size: 2\n",
      "Results: [1, 4, 9, 16, 25, 36, 49, 64, 81, 100]\n",
      "Time taken: 0.0241 seconds\n",
      "\n",
      "Pool size: 3\n",
      "Results: [1, 4, 9, 16, 25, 36, 49, 64, 81, 100]\n",
      "Time taken: 0.0326 seconds\n",
      "\n"
     ]
    }
   ],
   "source": [
    "import multiprocessing\n",
    "import time\n",
    "\n",
    "# Function to compute the square of a number\n",
    "def square(n):\n",
    "    return n * n\n",
    "\n",
    "# Function to measure the time taken for a given pool size\n",
    "def measure_time(pool_size):\n",
    "    numbers = list(range(1, 11))  # Numbers from 1 to 10\n",
    "    \n",
    "    start_time = time.time()  # Record start time\n",
    "\n",
    "    with multiprocessing.Pool(processes=pool_size) as pool:\n",
    "        results = pool.map(square, numbers)  # Compute squares in parallel\n",
    "\n",
    "    end_time = time.time()  # Record end time\n",
    "\n",
    "    print(f\"Pool size: {pool_size}\")\n",
    "    print(f\"Results: {results}\")\n",
    "    print(f\"Time taken: {end_time - start_time:.4f} seconds\\n\")\n",
    "\n",
    "def main():\n",
    "    pool_sizes = [1,2,3]  # Different pool sizes to test\n",
    "\n",
    "    for size in pool_sizes:\n",
    "        measure_time(size)\n",
    "\n",
    "if __name__ == \"__main__\":\n",
    "    main()\n"
   ]
  },
  {
   "cell_type": "code",
   "execution_count": null,
   "metadata": {},
   "outputs": [],
   "source": []
  }
 ],
 "metadata": {
  "kernelspec": {
   "display_name": "Python 3 (ipykernel)",
   "language": "python",
   "name": "python3"
  },
  "language_info": {
   "codemirror_mode": {
    "name": "ipython",
    "version": 3
   },
   "file_extension": ".py",
   "mimetype": "text/x-python",
   "name": "python",
   "nbconvert_exporter": "python",
   "pygments_lexer": "ipython3",
   "version": "3.10.8"
  }
 },
 "nbformat": 4,
 "nbformat_minor": 4
}
