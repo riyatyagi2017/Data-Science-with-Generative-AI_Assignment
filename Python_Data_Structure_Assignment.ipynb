{
  "nbformat": 4,
  "nbformat_minor": 0,
  "metadata": {
    "colab": {
      "provenance": []
    },
    "kernelspec": {
      "name": "python3",
      "display_name": "Python 3"
    },
    "language_info": {
      "name": "python"
    }
  },
  "cells": [
    {
      "cell_type": "markdown",
      "source": [
        "1.Discuss String slicing and providing examples"
      ],
      "metadata": {
        "id": "BJ3tkdKAw5WG"
      }
    },
    {
      "cell_type": "code",
      "execution_count": 1,
      "metadata": {
        "colab": {
          "base_uri": "https://localhost:8080/"
        },
        "id": "Q6v0CCvwuA82",
        "outputId": "a6c08155-43d7-4f1a-b856-e9f811ad4720"
      },
      "outputs": [
        {
          "output_type": "stream",
          "name": "stdout",
          "text": [
            "C\n"
          ]
        }
      ],
      "source": [
        "snack = \"CHOCOLATE COOKIE.\"\n",
        "print(snack[0])"
      ]
    },
    {
      "cell_type": "code",
      "source": [
        "print(snack[0:10])# index 10 is excleded."
      ],
      "metadata": {
        "colab": {
          "base_uri": "https://localhost:8080/"
        },
        "id": "4ENBSbllvRs1",
        "outputId": "cfabdf03-b2d9-4bf2-aa31-68536bb95e1a"
      },
      "execution_count": 2,
      "outputs": [
        {
          "output_type": "stream",
          "name": "stdout",
          "text": [
            "CHOCOLATE \n"
          ]
        }
      ]
    },
    {
      "cell_type": "code",
      "source": [
        "# Excess second last index using negative indexing\n",
        "print(snack[-2])"
      ],
      "metadata": {
        "colab": {
          "base_uri": "https://localhost:8080/"
        },
        "id": "XmOXTVfLveCQ",
        "outputId": "f912d557-2914-4ec1-c697-133785632ae8"
      },
      "execution_count": 3,
      "outputs": [
        {
          "output_type": "stream",
          "name": "stdout",
          "text": [
            "E\n"
          ]
        }
      ]
    },
    {
      "cell_type": "markdown",
      "source": [
        "2.Explain the key feature of lists in Python"
      ],
      "metadata": {
        "id": "P5Ssyk7mxPMO"
      }
    },
    {
      "cell_type": "code",
      "source": [
        "# 1. Lists are ordered\n",
        "a = ['foo', 'bar', 'baz', 'qux']\n",
        "b = ['baz', 'qux', 'bar', 'foo']\n",
        "print(a == b)\n",
        "print(a is b)\n",
        "print([1, 2, 3, 4] == [4, 1, 3, 2])"
      ],
      "metadata": {
        "colab": {
          "base_uri": "https://localhost:8080/"
        },
        "id": "HY4VgkGkxbXL",
        "outputId": "6262f382-644a-49da-ce4c-a36c9158dedf"
      },
      "execution_count": 4,
      "outputs": [
        {
          "output_type": "stream",
          "name": "stdout",
          "text": [
            "False\n",
            "False\n",
            "False\n"
          ]
        }
      ]
    },
    {
      "cell_type": "code",
      "source": [
        "# 2.  Lists Can Contain Arbitrary Objects\n",
        "a = [21.42, 'foobar', 3, 4, 'bark', False, 3.14159]\n",
        "a"
      ],
      "metadata": {
        "colab": {
          "base_uri": "https://localhost:8080/"
        },
        "id": "1rrjILoOzGTr",
        "outputId": "30ee6f05-91df-47bc-920c-f41b2188e5f3"
      },
      "execution_count": 5,
      "outputs": [
        {
          "output_type": "execute_result",
          "data": {
            "text/plain": [
              "[21.42, 'foobar', 3, 4, 'bark', False, 3.14159]"
            ]
          },
          "metadata": {},
          "execution_count": 5
        }
      ]
    },
    {
      "cell_type": "code",
      "source": [
        "# 3. List Elements Can Be Accessed by Index\n",
        "a = ['foo', 'bar', 'baz', 'qux', 'quux', 'corge']\n",
        "print(a[0])\n",
        "print(a[5])\n",
        "print(a[-1])\n",
        "print(a[-6])"
      ],
      "metadata": {
        "colab": {
          "base_uri": "https://localhost:8080/"
        },
        "id": "C7ZZtFVg0WK-",
        "outputId": "864995a3-24e1-46ef-c2dc-310cca747f85"
      },
      "execution_count": 6,
      "outputs": [
        {
          "output_type": "stream",
          "name": "stdout",
          "text": [
            "foo\n",
            "corge\n",
            "corge\n",
            "foo\n"
          ]
        }
      ]
    },
    {
      "cell_type": "code",
      "source": [
        "# 4. Lists Can Be Nested\n",
        "x = ['a', ['bb', ['ccc', 'ddd'], 'ee', 'ff'], 'g', ['hh', 'ii'], 'j']\n",
        "print(x)\n",
        "print(x[0],x[2],x[3])"
      ],
      "metadata": {
        "colab": {
          "base_uri": "https://localhost:8080/"
        },
        "id": "KkvQSc_q0oj9",
        "outputId": "e480f4ce-43be-4ccd-fbff-b4533bff4f49"
      },
      "execution_count": 7,
      "outputs": [
        {
          "output_type": "stream",
          "name": "stdout",
          "text": [
            "['a', ['bb', ['ccc', 'ddd'], 'ee', 'ff'], 'g', ['hh', 'ii'], 'j']\n",
            "a g ['hh', 'ii']\n"
          ]
        }
      ]
    },
    {
      "cell_type": "code",
      "source": [
        "# 5. Lists Are Mutable\n",
        "a = ['foo', 'bar', 'baz', 'qux', 'quux', 'corge']\n",
        "print(a)\n",
        "\n",
        "a[2] = 10\n",
        "a[-1] = 20\n",
        "print(a)"
      ],
      "metadata": {
        "colab": {
          "base_uri": "https://localhost:8080/"
        },
        "id": "SZkEaxry1fsd",
        "outputId": "54cbd156-9aaf-4233-c2a3-7d59ffa86b01"
      },
      "execution_count": 8,
      "outputs": [
        {
          "output_type": "stream",
          "name": "stdout",
          "text": [
            "['foo', 'bar', 'baz', 'qux', 'quux', 'corge']\n",
            "['foo', 'bar', 10, 'qux', 'quux', 20]\n"
          ]
        }
      ]
    },
    {
      "cell_type": "code",
      "source": [
        "# 6. Lists Are Dynamic\n",
        "'''\n",
        "When items are added to a list, it grows as needed:\n",
        "\n",
        "'''\n",
        "\n",
        "a = ['foo', 'bar', 'baz', 'qux', 'quux', 'corge']\n",
        "a[2:2] = [1, 2, 3]\n",
        "a += [3.14159]\n",
        "print(a)"
      ],
      "metadata": {
        "colab": {
          "base_uri": "https://localhost:8080/"
        },
        "id": "iEsQ6gbd18K8",
        "outputId": "7c2a1049-8165-4050-bc23-bb9349790f2c"
      },
      "execution_count": 9,
      "outputs": [
        {
          "output_type": "stream",
          "name": "stdout",
          "text": [
            "['foo', 'bar', 1, 2, 3, 'baz', 'qux', 'quux', 'corge', 3.14159]\n"
          ]
        }
      ]
    },
    {
      "cell_type": "markdown",
      "source": [
        "3. Describe how to access, modify, and delete elements in a list with examples."
      ],
      "metadata": {
        "id": "ErfeqwBQ5T-B"
      }
    },
    {
      "cell_type": "code",
      "source": [
        "# accessing elements of the list\n",
        "colors = ['red', 'green', 'blue']\n",
        "print(colors[0])\n",
        "print(colors[1])\n",
        "print(colors[2])"
      ],
      "metadata": {
        "colab": {
          "base_uri": "https://localhost:8080/"
        },
        "id": "wkfKhtLn5YhD",
        "outputId": "ce8dd292-4f5d-4546-e1ab-01de5c52dc1a"
      },
      "execution_count": 10,
      "outputs": [
        {
          "output_type": "stream",
          "name": "stdout",
          "text": [
            "red\n",
            "green\n",
            "blue\n"
          ]
        }
      ]
    },
    {
      "cell_type": "code",
      "source": [
        "# Modify elements of a list\n",
        "colors = ['red', 'green', 'blue']\n",
        "colors[0] = 'yellow'\n",
        "print(colors)\n",
        "\n",
        "z = [7,4,3,2]\n",
        "z.append(3)\n",
        "print(z)\n",
        "z.remove(2)\n",
        "print(z)\n",
        "z.pop(1)\n",
        "print(z)\n"
      ],
      "metadata": {
        "colab": {
          "base_uri": "https://localhost:8080/"
        },
        "id": "gwXk8J7dXrox",
        "outputId": "a9a0a3fd-3804-42fd-f959-b78267de699d"
      },
      "execution_count": 11,
      "outputs": [
        {
          "output_type": "stream",
          "name": "stdout",
          "text": [
            "['yellow', 'green', 'blue']\n",
            "[7, 4, 3, 2, 3]\n",
            "[7, 4, 3, 3]\n",
            "[7, 3, 3]\n"
          ]
        }
      ]
    },
    {
      "cell_type": "code",
      "source": [
        "# Deleting elements in a list\n",
        "colors = ['red', 'green', 'blue']\n",
        "del colors[0]  # Delete the first element\n",
        "print(colors)\n",
        "\n",
        "colors.remove('green')  # Remove the element with value 'green'\n",
        "print(colors)\n",
        "\n",
        "colors = ['red', 'green', 'blue']\n",
        "colors.pop()  # Remove and return the last element\n",
        "print(colors)\n",
        "\n",
        "colors.clear()  # Remove all elements from the list\n",
        "print(colors)\n"
      ],
      "metadata": {
        "colab": {
          "base_uri": "https://localhost:8080/"
        },
        "id": "H83H6agKYBVN",
        "outputId": "cdf5d165-eec2-469f-b149-9f105766fa9a"
      },
      "execution_count": 12,
      "outputs": [
        {
          "output_type": "stream",
          "name": "stdout",
          "text": [
            "['green', 'blue']\n",
            "['blue']\n",
            "['red', 'green']\n",
            "[]\n"
          ]
        }
      ]
    },
    {
      "cell_type": "markdown",
      "source": [
        "4. Compare and contrast tuples and lists with examples.\n"
      ],
      "metadata": {
        "id": "vQI76mneCafb"
      }
    },
    {
      "cell_type": "code",
      "source": [
        "# Creating a List with\n",
        "# the use of Numbers\n",
        "# code to test that lists are mutable\n",
        "List = [1, 2, 4, 4, 3, 3, 3, 6, 5]\n",
        "print(\"Original list \", List)\n",
        "\n",
        "List[3] = 77\n",
        "print(\"Example to show mutability \", List)\n"
      ],
      "metadata": {
        "colab": {
          "base_uri": "https://localhost:8080/"
        },
        "id": "VeKVM4jOCem_",
        "outputId": "c54fb67f-0c97-4725-d871-bc1323054c94"
      },
      "execution_count": 13,
      "outputs": [
        {
          "output_type": "stream",
          "name": "stdout",
          "text": [
            "Original list  [1, 2, 4, 4, 3, 3, 3, 6, 5]\n",
            "Example to show mutability  [1, 2, 4, 77, 3, 3, 3, 6, 5]\n"
          ]
        }
      ]
    },
    {
      "cell_type": "code",
      "source": [
        "# code to test that tuples are immutable\n",
        "\n",
        "tuple1 = (0, 1, 2, 3)\n",
        "tuple1[0] = 4 # will through an error\n",
        "print(tuple1)\n"
      ],
      "metadata": {
        "colab": {
          "base_uri": "https://localhost:8080/",
          "height": 193
        },
        "id": "1i9kBP1jCp-B",
        "outputId": "6249fc09-519c-44a3-f197-baed81c52358"
      },
      "execution_count": 15,
      "outputs": [
        {
          "output_type": "error",
          "ename": "TypeError",
          "evalue": "'tuple' object does not support item assignment",
          "traceback": [
            "\u001b[0;31m---------------------------------------------------------------------------\u001b[0m",
            "\u001b[0;31mTypeError\u001b[0m                                 Traceback (most recent call last)",
            "\u001b[0;32m<ipython-input-15-14c45a50cc69>\u001b[0m in \u001b[0;36m<cell line: 4>\u001b[0;34m()\u001b[0m\n\u001b[1;32m      2\u001b[0m \u001b[0;34m\u001b[0m\u001b[0m\n\u001b[1;32m      3\u001b[0m \u001b[0mtuple1\u001b[0m \u001b[0;34m=\u001b[0m \u001b[0;34m(\u001b[0m\u001b[0;36m0\u001b[0m\u001b[0;34m,\u001b[0m \u001b[0;36m1\u001b[0m\u001b[0;34m,\u001b[0m \u001b[0;36m2\u001b[0m\u001b[0;34m,\u001b[0m \u001b[0;36m3\u001b[0m\u001b[0;34m)\u001b[0m\u001b[0;34m\u001b[0m\u001b[0;34m\u001b[0m\u001b[0m\n\u001b[0;32m----> 4\u001b[0;31m \u001b[0mtuple1\u001b[0m\u001b[0;34m[\u001b[0m\u001b[0;36m0\u001b[0m\u001b[0;34m]\u001b[0m \u001b[0;34m=\u001b[0m \u001b[0;36m4\u001b[0m \u001b[0;31m# will through an error\u001b[0m\u001b[0;34m\u001b[0m\u001b[0;34m\u001b[0m\u001b[0m\n\u001b[0m\u001b[1;32m      5\u001b[0m \u001b[0mprint\u001b[0m\u001b[0;34m(\u001b[0m\u001b[0mtuple1\u001b[0m\u001b[0;34m)\u001b[0m\u001b[0;34m\u001b[0m\u001b[0;34m\u001b[0m\u001b[0m\n",
            "\u001b[0;31mTypeError\u001b[0m: 'tuple' object does not support item assignment"
          ]
        }
      ]
    },
    {
      "cell_type": "markdown",
      "source": [
        "5. Describe the key features of sets and provide examples of their use.\n"
      ],
      "metadata": {
        "id": "Vf29aklGGOyv"
      }
    },
    {
      "cell_type": "code",
      "source": [
        "# Sets are unordered\n",
        "x = {1,2,3,4}\n",
        "print(x)\n",
        "y = {4,3,2,1}\n",
        "print(y)\n",
        "\n",
        "print(x == y) # give the output true because order does not matter"
      ],
      "metadata": {
        "colab": {
          "base_uri": "https://localhost:8080/"
        },
        "id": "OzDs4gqEGUV8",
        "outputId": "baca9746-271f-4ae9-a8be-0efc81a15706"
      },
      "execution_count": 17,
      "outputs": [
        {
          "output_type": "stream",
          "name": "stdout",
          "text": [
            "{1, 2, 3, 4}\n",
            "{1, 2, 3, 4}\n",
            "True\n"
          ]
        }
      ]
    },
    {
      "cell_type": "code",
      "source": [
        "#Set elements are unique . Duplicate elements are not allowed\n",
        "\n",
        "x = {1, 2, 3, 4, 3, 2}\n",
        "print(x)  # Output: {1, 2, 3, 4}\n"
      ],
      "metadata": {
        "colab": {
          "base_uri": "https://localhost:8080/"
        },
        "id": "6w1aI_8zHGEQ",
        "outputId": "b1650af9-ec46-45dd-8777-6640d9330b38"
      },
      "execution_count": 18,
      "outputs": [
        {
          "output_type": "stream",
          "name": "stdout",
          "text": [
            "{1, 2, 3, 4}\n"
          ]
        }
      ]
    },
    {
      "cell_type": "code",
      "source": [
        "# A set itself may be modified, but the elements contained in the set must be of an immutable type.\n",
        "\n",
        "\n",
        "# Set elements must be immutable.\n",
        "my_set = {1, 2, 3, \"hello\"}  # Valid set with immutable elements\n",
        "print(my_set)\n"
      ],
      "metadata": {
        "colab": {
          "base_uri": "https://localhost:8080/"
        },
        "id": "VqR35u-yHsbq",
        "outputId": "04003df7-1ece-4449-b406-b7bbd513f08a"
      },
      "execution_count": 19,
      "outputs": [
        {
          "output_type": "stream",
          "name": "stdout",
          "text": [
            "{1, 2, 3, 'hello'}\n"
          ]
        }
      ]
    },
    {
      "cell_type": "code",
      "source": [
        "# Trying to include a list (mutable) in a set will raise an error\n",
        "my_set = {1, 2, [3, 4]}  # This would cause a TypeError\n"
      ],
      "metadata": {
        "colab": {
          "base_uri": "https://localhost:8080/",
          "height": 158
        },
        "id": "7PE9U7GHIBbX",
        "outputId": "6712af1e-f3a1-4e39-e56b-3c2e3657d2d3"
      },
      "execution_count": 20,
      "outputs": [
        {
          "output_type": "error",
          "ename": "TypeError",
          "evalue": "unhashable type: 'list'",
          "traceback": [
            "\u001b[0;31m---------------------------------------------------------------------------\u001b[0m",
            "\u001b[0;31mTypeError\u001b[0m                                 Traceback (most recent call last)",
            "\u001b[0;32m<ipython-input-20-17c288d5a3d5>\u001b[0m in \u001b[0;36m<cell line: 2>\u001b[0;34m()\u001b[0m\n\u001b[1;32m      1\u001b[0m \u001b[0;31m# Trying to include a list (mutable) in a set will raise an error\u001b[0m\u001b[0;34m\u001b[0m\u001b[0;34m\u001b[0m\u001b[0m\n\u001b[0;32m----> 2\u001b[0;31m \u001b[0mmy_set\u001b[0m \u001b[0;34m=\u001b[0m \u001b[0;34m{\u001b[0m\u001b[0;36m1\u001b[0m\u001b[0;34m,\u001b[0m \u001b[0;36m2\u001b[0m\u001b[0;34m,\u001b[0m \u001b[0;34m[\u001b[0m\u001b[0;36m3\u001b[0m\u001b[0;34m,\u001b[0m \u001b[0;36m4\u001b[0m\u001b[0;34m]\u001b[0m\u001b[0;34m}\u001b[0m  \u001b[0;31m# This would cause a TypeError\u001b[0m\u001b[0;34m\u001b[0m\u001b[0;34m\u001b[0m\u001b[0m\n\u001b[0m",
            "\u001b[0;31mTypeError\u001b[0m: unhashable type: 'list'"
          ]
        }
      ]
    },
    {
      "cell_type": "code",
      "source": [
        "# Example of modifying a set\n",
        "my_set.add(5)\n",
        "print(my_set)\n",
        "\n",
        "my_set.remove(\"hello\")\n",
        "print(my_set)"
      ],
      "metadata": {
        "colab": {
          "base_uri": "https://localhost:8080/"
        },
        "id": "0mKFNZ0MIETh",
        "outputId": "1f8f59c6-78a4-4c24-ab4b-6f0829abea84"
      },
      "execution_count": 21,
      "outputs": [
        {
          "output_type": "stream",
          "name": "stdout",
          "text": [
            "{1, 2, 3, 5, 'hello'}\n",
            "{1, 2, 3, 5}\n"
          ]
        }
      ]
    },
    {
      "cell_type": "markdown",
      "source": [
        "6. Discuss the use cases of tuples and sets in python programming."
      ],
      "metadata": {
        "id": "RVRvmY7TInak"
      }
    },
    {
      "cell_type": "code",
      "source": [
        "# Use Cases of Tuples:\n",
        "\n",
        "# 1. Representing Fixed Collections: Tuples are ideal for representing collections of items that should not be changed after creation. Examples include:\n",
        "\n",
        "# - Coordinates: (x, y, z)\n",
        "# - RGB color values: (255, 0, 128)\n",
        "# - Date components: (year, month, day)\n",
        "\n",
        "# 2. Function Return Values: When a function needs to return multiple values, a tuple provides a convenient way to package them.\n",
        "\n",
        "def get_user_info():\n",
        "  name = \"Alice\"\n",
        "  age = 30\n",
        "  city = \"New York\"\n",
        "  return name, age, city\n",
        "\n",
        "user_info = get_user_info()\n",
        "print(user_info)  # Output: ('Alice', 30, 'New York')\n",
        "\n",
        "# 3. Dictionary Keys: Since tuples are immutable, they can be used as keys in dictionaries.\n",
        "\n",
        "student_scores = {\n",
        "  (\"Alice\", \"Math\"): 95,\n",
        "  (\"Bob\", \"Science\"): 88,\n",
        "  (\"Charlie\", \"English\"): 92\n",
        "}\n",
        "\n",
        "# 4. Sequence Unpacking: Tuples enable elegant unpacking of values into separate variables.\n",
        "\n",
        "name, age, city = get_user_info()\n",
        "print(name)  # Output: Alice\n",
        "\n"
      ],
      "metadata": {
        "colab": {
          "base_uri": "https://localhost:8080/"
        },
        "id": "It591lgJJ6Yl",
        "outputId": "0320195f-0608-44fc-e21c-94d8adca1275"
      },
      "execution_count": 23,
      "outputs": [
        {
          "output_type": "stream",
          "name": "stdout",
          "text": [
            "('Alice', 30, 'New York')\n",
            "Alice\n"
          ]
        }
      ]
    },
    {
      "cell_type": "code",
      "source": [
        "# Use Cases of Sets:\n",
        "\n",
        "# 1. Removing Duplicates: Sets automatically eliminate duplicate elements, making them useful for cleaning up data.\n",
        "\n",
        "numbers = [1, 2, 2, 3, 4, 4, 5]\n",
        "unique_numbers = set(numbers)\n",
        "print(unique_numbers)  # Output: {1, 2, 3, 4, 5}\n",
        "\n",
        "# 2. Membership Testing: Sets provide efficient membership testing using the `in` operator.\n",
        "\n",
        "if \"apple\" in {\"apple\", \"banana\", \"orange\"}:\n",
        "  print(\"Found apple!\")\n",
        "\n",
        "# 3. Mathematical Set Operations: Sets support operations like union, intersection, difference, and more.\n",
        "\n",
        "set1 = {1, 2, 3}\n",
        "set2 = {3, 4, 5}\n",
        "\n",
        "union_set = set1 | set2\n",
        "print(union_set)  # Output: {1, 2, 3, 4, 5}\n",
        "\n",
        "intersection_set = set1 & set2\n",
        "print(intersection_set)  # Output: {3}\n",
        "\n",
        "# 4. Ensuring Uniqueness: When you need to store a collection of unique items, sets are the natural choice. For example, storing a list of usernames or email addresses.\n"
      ],
      "metadata": {
        "colab": {
          "base_uri": "https://localhost:8080/"
        },
        "id": "GJcFxtHdKt7L",
        "outputId": "145626e9-3861-48e8-876f-728adf375c39"
      },
      "execution_count": 24,
      "outputs": [
        {
          "output_type": "stream",
          "name": "stdout",
          "text": [
            "{1, 2, 3, 4, 5}\n",
            "Found apple!\n",
            "{1, 2, 3, 4, 5}\n",
            "{3}\n"
          ]
        }
      ]
    },
    {
      "cell_type": "markdown",
      "source": [
        "7. Describe how to add, modify , and delete items in a dictionary with example"
      ],
      "metadata": {
        "id": "UbE22tjDLUON"
      }
    },
    {
      "cell_type": "code",
      "source": [
        "# Adding items to a dictionary:\n",
        "# 1. Direct assignment:\n",
        "my_dict = {}\n",
        "my_dict['name'] = 'Alice'\n",
        "my_dict['age'] = 30\n",
        "print(my_dict)  # Output: {'name': 'Alice', 'age': 30}\n",
        "\n",
        "# 2. Using the `update()` method:\n",
        "my_dict.update({'city': 'New York', 'occupation': 'Software Engineer'})\n",
        "print(my_dict)  # Output: {'name': 'Alice', 'age': 30, 'city': 'New York', 'occupation': 'Software Engineer'}\n",
        "\n"
      ],
      "metadata": {
        "colab": {
          "base_uri": "https://localhost:8080/"
        },
        "id": "4GnEwkq4L4dj",
        "outputId": "f5529c7d-c3da-4f63-d86f-34effb913733"
      },
      "execution_count": 25,
      "outputs": [
        {
          "output_type": "stream",
          "name": "stdout",
          "text": [
            "{'name': 'Alice', 'age': 30}\n",
            "{'name': 'Alice', 'age': 30, 'city': 'New York', 'occupation': 'Software Engineer'}\n"
          ]
        }
      ]
    },
    {
      "cell_type": "code",
      "source": [
        "# Modifying items in a dictionary:\n",
        "my_dict['age'] = 31\n",
        "print(my_dict)  # Output: {'name': 'Alice', 'age': 31, 'city': 'New York', 'occupation': 'Software Engineer'}\n"
      ],
      "metadata": {
        "colab": {
          "base_uri": "https://localhost:8080/"
        },
        "id": "Mzil16DnMCrg",
        "outputId": "15fec4f1-c521-4204-8615-2b22fe35b28d"
      },
      "execution_count": 26,
      "outputs": [
        {
          "output_type": "stream",
          "name": "stdout",
          "text": [
            "{'name': 'Alice', 'age': 31, 'city': 'New York', 'occupation': 'Software Engineer'}\n"
          ]
        }
      ]
    },
    {
      "cell_type": "code",
      "source": [
        "# Deleting items from a dictionary:\n",
        "# 1. Using the `del` keyword:\n",
        "del my_dict['occupation']\n",
        "print(my_dict)  # Output: {'name': 'Alice', 'age': 31, 'city': 'New York'}\n",
        "\n",
        "# 2. Using the `pop()` method:\n",
        "city = my_dict.pop('city')\n",
        "print(my_dict)  # Output: {'name': 'Alice', 'age': 31}\n",
        "print(city)  # Output: New York\n",
        "\n",
        "# 3. Using the `popitem()` method (removes and returns an arbitrary key-value pair):\n",
        "key, value = my_dict.popitem()\n",
        "print(my_dict)  # Output: {'name': 'Alice'}\n",
        "print(key, value)  # Output: age 31\n",
        "\n",
        "# 4. Using the `clear()` method (removes all items):\n",
        "my_dict.clear()\n",
        "print(my_dict)  # Output: {}\n"
      ],
      "metadata": {
        "colab": {
          "base_uri": "https://localhost:8080/"
        },
        "id": "Gen0O3r5MIV6",
        "outputId": "595fc094-4177-4b5b-f488-d62ed562d897"
      },
      "execution_count": 27,
      "outputs": [
        {
          "output_type": "stream",
          "name": "stdout",
          "text": [
            "{'name': 'Alice', 'age': 31, 'city': 'New York'}\n",
            "{'name': 'Alice', 'age': 31}\n",
            "New York\n",
            "{'name': 'Alice'}\n",
            "age 31\n",
            "{}\n"
          ]
        }
      ]
    },
    {
      "cell_type": "markdown",
      "source": [
        "8. Discuss the importance of dictionary keys being immutable and provide examples.\n"
      ],
      "metadata": {
        "id": "29qNlU1yONPZ"
      }
    },
    {
      "cell_type": "code",
      "source": [
        "# Dictionary keys in Python must be immutable because they are used for hashing.\n",
        "# Hashing is a process that converts an object into a unique numerical value (hash code).\n",
        "# This hash code is used to quickly locate the key-value pair in the dictionary.\n",
        "# If the key were mutable, its hash code could change, and the dictionary would no longer be able to find the corresponding value.\n",
        "\n",
        "# Example of an immutable key (string):\n",
        "my_dict = {\"name\": \"Alice\", \"age\": 30}\n",
        "print(my_dict[\"name\"])"
      ],
      "metadata": {
        "colab": {
          "base_uri": "https://localhost:8080/"
        },
        "id": "hvAdOQQtOUnG",
        "outputId": "409894ca-2b31-4b9e-eeeb-1772bbfb453c"
      },
      "execution_count": 28,
      "outputs": [
        {
          "output_type": "stream",
          "name": "stdout",
          "text": [
            "Alice\n"
          ]
        }
      ]
    },
    {
      "cell_type": "code",
      "source": [
        "# Attempting to use a mutable key (list) will raise a TypeError:\n",
        "my_dict = {[1, 2]: \"value\"}\n",
        "\n",
        "# Explanation:\n",
        "# Lists are mutable, meaning their contents can be changed after they are created.\n",
        "# If a list were used as a dictionary key, and its contents were modified, the hash code of the key would change.\n",
        "# This would break the dictionary's internal structure and make it impossible to retrieve the associated value.\n",
        "\n",
        "# Immutable objects, such as strings, numbers, and tuples, have hash codes that remain constant throughout their lifetime.\n",
        "# This makes them suitable for use as dictionary keys, ensuring the integrity and efficiency of dictionary operations."
      ],
      "metadata": {
        "colab": {
          "base_uri": "https://localhost:8080/",
          "height": 211
        },
        "id": "9pUxDWp0PHbj",
        "outputId": "3cf8ed36-ea50-4eab-9c02-17fed76f91dc"
      },
      "execution_count": 29,
      "outputs": [
        {
          "output_type": "error",
          "ename": "TypeError",
          "evalue": "unhashable type: 'list'",
          "traceback": [
            "\u001b[0;31m---------------------------------------------------------------------------\u001b[0m",
            "\u001b[0;31mTypeError\u001b[0m                                 Traceback (most recent call last)",
            "\u001b[0;32m<ipython-input-29-1137704a3050>\u001b[0m in \u001b[0;36m<cell line: 2>\u001b[0;34m()\u001b[0m\n\u001b[1;32m      1\u001b[0m \u001b[0;31m# Attempting to use a mutable key (list) will raise a TypeError:\u001b[0m\u001b[0;34m\u001b[0m\u001b[0;34m\u001b[0m\u001b[0m\n\u001b[0;32m----> 2\u001b[0;31m \u001b[0mmy_dict\u001b[0m \u001b[0;34m=\u001b[0m \u001b[0;34m{\u001b[0m\u001b[0;34m[\u001b[0m\u001b[0;36m1\u001b[0m\u001b[0;34m,\u001b[0m \u001b[0;36m2\u001b[0m\u001b[0;34m]\u001b[0m\u001b[0;34m:\u001b[0m \u001b[0;34m\"value\"\u001b[0m\u001b[0;34m}\u001b[0m\u001b[0;34m\u001b[0m\u001b[0;34m\u001b[0m\u001b[0m\n\u001b[0m\u001b[1;32m      3\u001b[0m \u001b[0;34m\u001b[0m\u001b[0m\n\u001b[1;32m      4\u001b[0m \u001b[0;31m# Explanation:\u001b[0m\u001b[0;34m\u001b[0m\u001b[0;34m\u001b[0m\u001b[0m\n\u001b[1;32m      5\u001b[0m \u001b[0;31m# Lists are mutable, meaning their contents can be changed after they are created.\u001b[0m\u001b[0;34m\u001b[0m\u001b[0;34m\u001b[0m\u001b[0m\n",
            "\u001b[0;31mTypeError\u001b[0m: unhashable type: 'list'"
          ]
        }
      ]
    },
    {
      "cell_type": "code",
      "source": [],
      "metadata": {
        "id": "ry7lQCiZPR4g"
      },
      "execution_count": null,
      "outputs": []
    }
  ]
}