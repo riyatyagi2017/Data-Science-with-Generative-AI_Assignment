{
  "nbformat": 4,
  "nbformat_minor": 0,
  "metadata": {
    "colab": {
      "provenance": []
    },
    "kernelspec": {
      "name": "python3",
      "display_name": "Python 3"
    },
    "language_info": {
      "name": "python"
    }
  },
  "cells": [
    {
      "cell_type": "code",
      "source": [
        "# 1. Write a code to reverse a string.\n",
        "\n",
        "txt = input(\"Enter a string : \")\n",
        "reverse_string = txt[::-1]\n",
        "print(reverse_string)"
      ],
      "metadata": {
        "colab": {
          "base_uri": "https://localhost:8080/"
        },
        "id": "3bDM1jA_bxZE",
        "outputId": "face71ea-2fc2-4e45-f0a4-93d6466c5d4d"
      },
      "execution_count": 1,
      "outputs": [
        {
          "output_type": "stream",
          "name": "stdout",
          "text": [
            "Enter a string : Hello World\n",
            "dlroW olleH\n"
          ]
        }
      ]
    },
    {
      "cell_type": "code",
      "source": [
        "# 2. Write a code to count the number of vowels in a string.\n",
        "\n",
        "string = input(\"Enter a string: \")\n",
        "vowels = \"aeiouAEIOU\"\n",
        "count = 0\n",
        "for char in string:\n",
        "  if char in vowels:\n",
        "    count += 1\n",
        "print(\"Number of vowels:\", count)"
      ],
      "metadata": {
        "colab": {
          "base_uri": "https://localhost:8080/"
        },
        "id": "WYWveFCdgcmr",
        "outputId": "2a1f305d-f2d0-403a-f22d-3161f1d2d7e2"
      },
      "execution_count": 2,
      "outputs": [
        {
          "output_type": "stream",
          "name": "stdout",
          "text": [
            "Enter a string: Hello World\n",
            "Number of vowels: 3\n"
          ]
        }
      ]
    },
    {
      "cell_type": "code",
      "source": [
        "# 3.Write a code to check if a given string is a palindrome or no\n",
        "\n",
        "txt = input(\"Enter a string:\")\n",
        "reverse_string = txt[::-1]\n",
        "if txt == reverse_string:\n",
        "  print(\"It is a palindrome\")\n",
        "else:\n",
        "  print(\"It is not a palindrome\")"
      ],
      "metadata": {
        "colab": {
          "base_uri": "https://localhost:8080/"
        },
        "id": "gri5RtrchtZV",
        "outputId": "39b1d264-000e-452d-c6a7-0ce4ad0d1131"
      },
      "execution_count": 3,
      "outputs": [
        {
          "output_type": "stream",
          "name": "stdout",
          "text": [
            "Enter a string:madam\n",
            "It is a palindrome\n"
          ]
        }
      ]
    },
    {
      "cell_type": "code",
      "source": [
        "# 4.  Write a code to check if two given strings are anagrams of each other\n",
        "\n",
        "txt1 = input(\"Enter a string :\")\n",
        "txt2 = input(\"Enter a string :\")\n",
        "\n",
        "if sorted(txt1) == sorted(txt2):\n",
        "  print(\"It is an anagram\")\n",
        "else:\n",
        "  print(\"It is not an anagram\")"
      ],
      "metadata": {
        "colab": {
          "base_uri": "https://localhost:8080/"
        },
        "id": "0B4vvlOwiREG",
        "outputId": "692c79a0-a85f-4970-97f5-f288c8d851d9"
      },
      "execution_count": 4,
      "outputs": [
        {
          "output_type": "stream",
          "name": "stdout",
          "text": [
            "Enter a string :night\n",
            "Enter a string :thing\n",
            "It is an anagram\n"
          ]
        }
      ]
    },
    {
      "cell_type": "code",
      "source": [
        "# 5.  Write a code to find all occurrences of a given substring within another string\n",
        "\n",
        "test_str = input(\"Enter a string :\")\n",
        "sub_str = input(\"Enter a substring :\")\n",
        "\n",
        "for i in range(len(test_str)):\n",
        "  if test_str.startswith(sub_str,i):\n",
        "    print(f\"Found '{sub_str}' at index {i}\")\n"
      ],
      "metadata": {
        "colab": {
          "base_uri": "https://localhost:8080/"
        },
        "id": "unt4hJgKj8bw",
        "outputId": "26214ed0-dc65-448d-d4f0-6210ddf66332"
      },
      "execution_count": 5,
      "outputs": [
        {
          "output_type": "stream",
          "name": "stdout",
          "text": [
            "Enter a string :Hello is a word in Hello World is string\n",
            "Enter a substring :Hello\n",
            "Found 'Hello' at index 0\n",
            "Found 'Hello' at index 19\n"
          ]
        }
      ]
    },
    {
      "cell_type": "code",
      "source": [
        "# 6.Write a code to perform basic string compression using the counts of repeated characters\n",
        "\n",
        "def compress_string(string):\n",
        "  compressed = \"\"\n",
        "  count = 1\n",
        "  for i in range(1, len(string)):\n",
        "    if string[i] == string[i-1]:\n",
        "      count += 1\n",
        "    else:\n",
        "      compressed += string[i-1]\n",
        "      if count > 1:\n",
        "        compressed += str(count)\n",
        "      count = 1\n",
        "  compressed += string[-1]\n",
        "  if count > 1:\n",
        "    compressed += str(count)\n",
        "  return compressed\n",
        "\n",
        "string = input(\"Enter a string :\")\n",
        "compressed_string = compress_string(string)\n",
        "print(compressed_string)\n"
      ],
      "metadata": {
        "id": "lh_VDRFEpJ8B",
        "colab": {
          "base_uri": "https://localhost:8080/"
        },
        "outputId": "3507df61-a085-4057-ad1e-a17060770e90"
      },
      "execution_count": 6,
      "outputs": [
        {
          "output_type": "stream",
          "name": "stdout",
          "text": [
            "Enter a string :abbbaaaaaaccdaaab\n",
            "ab3a6c2da3b\n"
          ]
        }
      ]
    },
    {
      "cell_type": "code",
      "source": [
        "# 7.Write a code to determine if a string has all unique characters\n",
        "\n",
        "def has_unique_characters(string):\n",
        "  char_set = set()\n",
        "  for char in string:\n",
        "    if char in char_set:\n",
        "      return False\n",
        "    char_set.add(char)\n",
        "  return True\n",
        "\n",
        "string = input(\"Enter a string :\")\n",
        "if has_unique_characters(string):\n",
        "  print(\"All characters are unique\")\n",
        "else:\n",
        "  print(\"String has duplicate characters\")\n"
      ],
      "metadata": {
        "id": "KCKMSVXeqeQQ",
        "colab": {
          "base_uri": "https://localhost:8080/"
        },
        "outputId": "2426d0da-8ae9-4ba7-fc6b-0f5df55ec8f4"
      },
      "execution_count": 7,
      "outputs": [
        {
          "output_type": "stream",
          "name": "stdout",
          "text": [
            "Enter a string :Riya Tyagi\n",
            "String has duplicate characters\n"
          ]
        }
      ]
    },
    {
      "cell_type": "code",
      "source": [
        "# 8.Write a code to convert a given string to uppercase or lowercase\n",
        "\n",
        "string = input(\"Enter a string :\")\n",
        "print(string.upper())\n",
        "print(string.lower())"
      ],
      "metadata": {
        "colab": {
          "base_uri": "https://localhost:8080/"
        },
        "id": "MkTfdRQIa1uk",
        "outputId": "1b011765-91ec-42d0-8890-ecc5c4596993"
      },
      "execution_count": 8,
      "outputs": [
        {
          "output_type": "stream",
          "name": "stdout",
          "text": [
            "Enter a string :Hello World\n",
            "HELLO WORLD\n",
            "hello world\n"
          ]
        }
      ]
    },
    {
      "cell_type": "code",
      "source": [
        "# 9. Write a code to count the number of words in a string.\n",
        "\n",
        "string = input(\"Enter a string :\")\n",
        "words = string.split()\n",
        "print(len(words))"
      ],
      "metadata": {
        "colab": {
          "base_uri": "https://localhost:8080/"
        },
        "id": "n4KEOnuMbQGD",
        "outputId": "8a44cf82-8021-4688-acdd-23f48fc380b8"
      },
      "execution_count": 9,
      "outputs": [
        {
          "output_type": "stream",
          "name": "stdout",
          "text": [
            "Enter a string :Hello , This is the code for counting the number of words in a string\n",
            "15\n"
          ]
        }
      ]
    },
    {
      "cell_type": "code",
      "source": [
        "# 10.Write a code to concatenate two strings without using the plus operator.\n",
        "\n",
        "var1 = input(\"Enter a string :\")\n",
        "var2 = input(\"Enter a string :\")\n",
        "print(var1,var2)\n"
      ],
      "metadata": {
        "colab": {
          "base_uri": "https://localhost:8080/"
        },
        "id": "smNqCjZKbv7V",
        "outputId": "8c90bdd7-9b22-4894-b018-ee5994f8caa6"
      },
      "execution_count": 10,
      "outputs": [
        {
          "output_type": "stream",
          "name": "stdout",
          "text": [
            "Enter a string :Riya\n",
            "Enter a string :Tyagi\n",
            "Riya Tyagi\n"
          ]
        }
      ]
    },
    {
      "cell_type": "code",
      "source": [
        "# 11.Write a code to remove all occurrences of a specific element from a list.\n",
        "\n",
        "l = [11,13,53,\"Pwskills\",\"Riya\",53,\"Pwskills\"]\n",
        "l = list(filter(lambda a: a!= \"Pwskills\",l))\n",
        "print(l)"
      ],
      "metadata": {
        "colab": {
          "base_uri": "https://localhost:8080/"
        },
        "id": "UrhVhdQzdJoP",
        "outputId": "0cbdcb1e-ea8c-4403-89d8-d5d2f766103a"
      },
      "execution_count": 11,
      "outputs": [
        {
          "output_type": "stream",
          "name": "stdout",
          "text": [
            "[11, 13, 53, 'Riya', 53]\n"
          ]
        }
      ]
    },
    {
      "cell_type": "code",
      "source": [
        "# 12. Implement a code to find the second largest number in a given list of integers\n",
        "lis = [10, 20, 4, 45, 99]\n",
        "lis.sort()\n",
        "print(\"Second largest element is:\", lis[-2])\n"
      ],
      "metadata": {
        "colab": {
          "base_uri": "https://localhost:8080/"
        },
        "id": "ZOFZfnu1fJn0",
        "outputId": "5f2188a4-5c33-4e57-8da9-2f9e528a2c20"
      },
      "execution_count": 12,
      "outputs": [
        {
          "output_type": "stream",
          "name": "stdout",
          "text": [
            "Second largest element is: 45\n"
          ]
        }
      ]
    },
    {
      "cell_type": "code",
      "source": [
        "# 13. Create a code to count the occurrences of each element in a list and return a dictionary with elements as keys and their counts as values\n",
        "\n",
        "lis1 = [11, 45, 8, 11, 23, 45, 23, 45, 89]\n",
        "count = {}\n",
        "for i in lis1:\n",
        "  if i in count:\n",
        "    count[i] += 1\n",
        "  else:\n",
        "    count[i] = 1\n",
        "print(count)"
      ],
      "metadata": {
        "colab": {
          "base_uri": "https://localhost:8080/"
        },
        "id": "qX10ZxAvfxx4",
        "outputId": "943b8c5d-b256-4823-d373-6741084b1150"
      },
      "execution_count": 13,
      "outputs": [
        {
          "output_type": "stream",
          "name": "stdout",
          "text": [
            "{11: 2, 45: 3, 8: 1, 23: 2, 89: 1}\n"
          ]
        }
      ]
    },
    {
      "cell_type": "code",
      "source": [
        "# 14.  Write a code to reverse a list in-place without using any built-in reverse functions.\n",
        "\n",
        "lis2 = [10, 11, 12, 13, 14, 15]\n",
        "print(lis2[::-1])"
      ],
      "metadata": {
        "colab": {
          "base_uri": "https://localhost:8080/"
        },
        "id": "IW5EKBe4gUwq",
        "outputId": "db6d990c-3190-4ead-ae18-dd1fbbf08cff"
      },
      "execution_count": 14,
      "outputs": [
        {
          "output_type": "stream",
          "name": "stdout",
          "text": [
            "[15, 14, 13, 12, 11, 10]\n"
          ]
        }
      ]
    },
    {
      "cell_type": "code",
      "source": [
        "# 15. Implement a code to find and remove duplicates from a list while preserving the original order of elements\n",
        "\n",
        "lst3 = [1,2,1,3,3,2,4,5,6,4]\n",
        "new_lst = []\n",
        "for i in lst3:\n",
        "  if i not in new_lst:\n",
        "    new_lst.append(i)\n",
        "print(new_lst)"
      ],
      "metadata": {
        "colab": {
          "base_uri": "https://localhost:8080/"
        },
        "id": "rgpQHjaihvfq",
        "outputId": "222e491f-4026-4c03-a5ec-05fbaa499abb"
      },
      "execution_count": 16,
      "outputs": [
        {
          "output_type": "stream",
          "name": "stdout",
          "text": [
            "[1, 2, 3, 4, 5, 6]\n"
          ]
        }
      ]
    },
    {
      "cell_type": "code",
      "source": [
        "# 16. Create a code to check if a given list is sorted (either in ascending or descending order) or not\n",
        "\n",
        "lst4 = [1,2,3,4,5,6,7,8,9]\n",
        "if lst4 == sorted(lst4) or lst4 == sorted(lst4, reverse=True):\n",
        "  print(\"List is sorted\")\n",
        "else:\n",
        "  print(\"List is not sorted\")\n"
      ],
      "metadata": {
        "colab": {
          "base_uri": "https://localhost:8080/"
        },
        "id": "UKSvy23XlCQx",
        "outputId": "ad9b5f6a-2cf0-45e1-9883-224f41558d41"
      },
      "execution_count": 18,
      "outputs": [
        {
          "output_type": "stream",
          "name": "stdout",
          "text": [
            "List is sorted\n"
          ]
        }
      ]
    },
    {
      "cell_type": "code",
      "source": [
        "# 17. Write a code to merge two sorted lists into a single sorted list\n",
        "\n",
        "lst5 = [1,2,3,4,5]\n",
        "lst6 = [6,7,8,9,10]\n",
        "lst7 = lst5 + lst6\n",
        "lst7.sort()\n",
        "print(lst7)"
      ],
      "metadata": {
        "colab": {
          "base_uri": "https://localhost:8080/"
        },
        "id": "IASRFJNxlS8-",
        "outputId": "04f82370-9063-4c04-de57-95f3fa0be5ba"
      },
      "execution_count": 19,
      "outputs": [
        {
          "output_type": "stream",
          "name": "stdout",
          "text": [
            "[1, 2, 3, 4, 5, 6, 7, 8, 9, 10]\n"
          ]
        }
      ]
    },
    {
      "cell_type": "code",
      "source": [
        "# 18.  Implement a code to find the intersection of two given lists.\n",
        "\n",
        "lst8 = [1,2,3,4,5]\n",
        "lst9 = [4,5,6,7,8]\n",
        "lst10 = list(set(lst8) & set(lst9))\n",
        "print(lst10)"
      ],
      "metadata": {
        "colab": {
          "base_uri": "https://localhost:8080/"
        },
        "id": "_LM5EKuIlee0",
        "outputId": "c0aa0f8d-0feb-4f83-abf7-0d6ccdd477a5"
      },
      "execution_count": 20,
      "outputs": [
        {
          "output_type": "stream",
          "name": "stdout",
          "text": [
            "[4, 5]\n"
          ]
        }
      ]
    },
    {
      "cell_type": "code",
      "source": [
        "# 19. Create a code to find the union of two lists without duplicates.\n",
        "\n",
        "lst11 = [1,2,3,4,5]\n",
        "lst12 = [4,5,6,7,8]\n",
        "lst13 = list(set(lst11) | set(lst12))\n",
        "print(lst13)"
      ],
      "metadata": {
        "colab": {
          "base_uri": "https://localhost:8080/"
        },
        "id": "qIe0bRY5lrGl",
        "outputId": "1ef1982d-e5b4-402c-d50b-2b52d35c6441"
      },
      "execution_count": 21,
      "outputs": [
        {
          "output_type": "stream",
          "name": "stdout",
          "text": [
            "[1, 2, 3, 4, 5, 6, 7, 8]\n"
          ]
        }
      ]
    },
    {
      "cell_type": "code",
      "source": [
        "# 20. Write a code to shuffle a given list randomly without using any built-in shuffle function\n",
        "\n",
        "import random\n",
        "\n",
        "def shuffle_list(lst):\n",
        "  shuffled_lst = []\n",
        "  while lst:\n",
        "    index = random.randrange(len(lst))\n",
        "    shuffled_lst.append(lst.pop(index))\n",
        "  return shuffled_lst\n",
        "\n",
        "my_list = [1, 2, 3, 4, 5]\n",
        "shuffled_list = shuffle_list(my_list.copy())  # Create a copy to avoid modifying the original\n",
        "print(\"Shuffled list:\", shuffled_list)\n"
      ],
      "metadata": {
        "colab": {
          "base_uri": "https://localhost:8080/"
        },
        "id": "ZD0SUw2kmwHl",
        "outputId": "26af9001-9f79-44bb-a078-23f9c6a2fe16"
      },
      "execution_count": 23,
      "outputs": [
        {
          "output_type": "stream",
          "name": "stdout",
          "text": [
            "Shuffled list: [5, 3, 1, 2, 4]\n"
          ]
        }
      ]
    },
    {
      "cell_type": "code",
      "source": [
        "# 21.  Write a code that takes two tuples as input and returns a new tuple containing elements that are common to both input tuples\n",
        "def common_elements(tup1, tup2):\n",
        "  return tuple(set(tup1) & set(tup2))\n",
        "tup1 = (1,2,3,4,5)\n",
        "tup2 = (4,5,6,7,8)\n",
        "tup3 = tuple(set(tup1) & set(tup2))\n",
        "print(tup3)"
      ],
      "metadata": {
        "colab": {
          "base_uri": "https://localhost:8080/"
        },
        "id": "Z7OPoJimnIsM",
        "outputId": "492f8e11-26cf-4b2b-82fd-dcbbe4885d82"
      },
      "execution_count": 27,
      "outputs": [
        {
          "output_type": "stream",
          "name": "stdout",
          "text": [
            "(4, 5)\n"
          ]
        }
      ]
    },
    {
      "cell_type": "code",
      "source": [
        "# 22. Create a code that prompts the user to enter two sets of integers separated by commas. Then, print the intersection of these two sets\n",
        "\n",
        "s1 = set(map(int, input(\"Enter the first set of integers separated by commas: \").split(',')))\n",
        "s2 = set(map(int, input(\"Enter the second set of integers separated by commas: \").split(',')))\n",
        "intersection = s1.intersection(s2)\n",
        "print(\"Intersection of the two sets:\", intersection)"
      ],
      "metadata": {
        "colab": {
          "base_uri": "https://localhost:8080/"
        },
        "id": "9kARJvpSnkmG",
        "outputId": "f89f1805-5c25-4edd-dd16-72ac05547cf6"
      },
      "execution_count": 28,
      "outputs": [
        {
          "output_type": "stream",
          "name": "stdout",
          "text": [
            "Enter the first set of integers separated by commas: 1,2,3,4,5,6\n",
            "Enter the second set of integers separated by commas: 4,5,6,7,8,9\n",
            "Intersection of the two sets: {4, 5, 6}\n"
          ]
        }
      ]
    },
    {
      "cell_type": "code",
      "source": [
        "# 23. Write a code to concatenate two tuples. The function should take two tuples as input and return a new tuple containing elements from both input tuples\n",
        "\n",
        "def concatenate_tuples(tuple1, tuple2):\n",
        "  new_tuple = tuple1 + tuple2\n",
        "  return new_tuple\n",
        "\n",
        "tuple1 = (1,2,3,4,5)\n",
        "tuple2 = (6,7,8,9,10)\n",
        "new_tuple = concatenate_tuples(tuple1, tuple2)\n",
        "print(new_tuple)"
      ],
      "metadata": {
        "colab": {
          "base_uri": "https://localhost:8080/"
        },
        "id": "lf88m6_OoGg2",
        "outputId": "45bcc7ba-9098-4aea-981d-262f4ea1f5fc"
      },
      "execution_count": 29,
      "outputs": [
        {
          "output_type": "stream",
          "name": "stdout",
          "text": [
            "(1, 2, 3, 4, 5, 6, 7, 8, 9, 10)\n"
          ]
        }
      ]
    },
    {
      "cell_type": "code",
      "source": [
        "# 24. Develop a code that prompts the user to input two sets of strings. Then, print the elements that are present in the first set but not in the second set.\n",
        "\n",
        "s1 = set(input(\"Enter the first set of strings separated by commas: \").split(','))\n",
        "s2 = set(input(\"Enter the second set of strings separated by commas: \").split(','))\n",
        "difference = s1.difference(s2)\n",
        "print(\"Elements in the first set but not in the second set:\", difference)\n",
        "\n",
        "\n"
      ],
      "metadata": {
        "colab": {
          "base_uri": "https://localhost:8080/"
        },
        "id": "zHQhsbTLoteH",
        "outputId": "0f1006a2-51f0-47e7-dffb-7383c1724303"
      },
      "execution_count": 30,
      "outputs": [
        {
          "output_type": "stream",
          "name": "stdout",
          "text": [
            "Enter the first set of strings separated by commas: 1,2,3,4,5,6,7\n",
            "Enter the second set of strings separated by commas: 5,6,7,8,9,10,11\n",
            "Elements in the first set but not in the second set: {'4', '2', '1', '3'}\n"
          ]
        }
      ]
    },
    {
      "cell_type": "code",
      "source": [
        "# 25. Create a code that takes a tuple and two integers as input. The function should return a new tuple\n",
        "# containing elements from the original tuple within the specified range of indices\n",
        "\n",
        "tup1 = (1,2,3,4,5,6,7,8,9,10)\n",
        "start = int(input(\"Enter the start index: \"))\n",
        "end = int(input(\"Enter the end index: \"))\n",
        "new_tup = tup1[start:end+1]\n",
        "print(new_tup)"
      ],
      "metadata": {
        "colab": {
          "base_uri": "https://localhost:8080/"
        },
        "id": "I0EfacUApIqc",
        "outputId": "9b292e25-bed3-4b87-d051-35503ad40578"
      },
      "execution_count": 31,
      "outputs": [
        {
          "output_type": "stream",
          "name": "stdout",
          "text": [
            "Enter the start index: 3\n",
            "Enter the end index: 7\n",
            "(4, 5, 6, 7, 8)\n"
          ]
        }
      ]
    },
    {
      "cell_type": "code",
      "source": [
        "# 26.  Write a code that prompts the user to input two sets of characters. Then, print the union of these two sets\n",
        "\n",
        "s1 = set(input(\"Enter the first set of characters separated by commas: \").split(','))\n",
        "s2 = set(input(\"Enter the second set of characters separated by commas: \").split(','))\n",
        "union = s1.union(s2)\n",
        "print(\"Union of the two sets:\", union)"
      ],
      "metadata": {
        "colab": {
          "base_uri": "https://localhost:8080/"
        },
        "id": "TnnB__Ve0cLV",
        "outputId": "88243da0-304a-4791-cc0d-0ecf6df11ae4"
      },
      "execution_count": 34,
      "outputs": [
        {
          "output_type": "stream",
          "name": "stdout",
          "text": [
            "Enter the first set of characters separated by commas: One,Two,Three,Four\n",
            "Enter the second set of characters separated by commas: Five,Six,Seven,Eight,Nine\n",
            "Union of the two sets: {'Two', 'Five', 'Eight', 'Seven', 'Six', 'Three', 'One', 'Four', 'Nine'}\n"
          ]
        }
      ]
    },
    {
      "cell_type": "code",
      "source": [
        "# 27.  Develop a code that takes a tuple of integers as input. The function should return the maximum and minimum values from the tuple using tuple unpacking\n",
        "\n",
        "tup = input(\"Enter a tuple of integers separated by commas: \").split(',')\n",
        "tup = tuple(map(int, tup))\n",
        "max_value, min_value = max(tup), min(tup)\n",
        "print(\"Maximum value:\", max_value)\n",
        "print(\"Minimum value:\", min_value)"
      ],
      "metadata": {
        "colab": {
          "base_uri": "https://localhost:8080/"
        },
        "id": "DZ19tKw41jFk",
        "outputId": "076668f4-6d8f-4f44-e925-3a1365fd0016"
      },
      "execution_count": 35,
      "outputs": [
        {
          "output_type": "stream",
          "name": "stdout",
          "text": [
            "Enter a tuple of integers separated by commas: 23,25,36,24,67,35,46\n",
            "Maximum value: 67\n",
            "Minimum value: 23\n"
          ]
        }
      ]
    },
    {
      "cell_type": "code",
      "source": [
        "# 28. Create a code that defines two sets of integers. Then, print the union, intersection, and difference of these two sets\n",
        "\n",
        "s1 = {1,2,3,4,5}\n",
        "s2 = {4,5,6,7,8}\n",
        "Union = s1.union(s2)\n",
        "Intersection = s1.intersection(s2)\n",
        "Difference = s1.difference(s2)\n",
        "print(\"Union of the two sets:\", Union)\n",
        "print(\"Intersection of the two sets:\", Intersection)\n",
        "print(\"Difference of the two sets:\", Difference)"
      ],
      "metadata": {
        "colab": {
          "base_uri": "https://localhost:8080/"
        },
        "id": "Y6luR7LK27RB",
        "outputId": "165d1025-1655-40e3-fedb-8723a3212816"
      },
      "execution_count": 40,
      "outputs": [
        {
          "output_type": "stream",
          "name": "stdout",
          "text": [
            "Union of the two sets: {1, 2, 3, 4, 5, 6, 7, 8}\n",
            "Intersection of the two sets: {4, 5}\n",
            "Difference of the two sets: {1, 2, 3}\n"
          ]
        }
      ]
    },
    {
      "cell_type": "code",
      "source": [
        "# 29.Write a code that takes a tuple and an element as input. The function should return the count of occurrences of the given element in the tuple\n",
        "\n",
        "def count_occurrences(tup, element):\n",
        "  count = 0\n",
        "  for item in tup:\n",
        "    if item == element:\n",
        "      count += 1\n",
        "  return count\n",
        "\n",
        "tup = input(\"Enter a tuple of integers separated by commas: \").split(',')\n",
        "tup = tuple(map(int, tup))\n",
        "element = int(input(\"Enter an element to count its occurrences: \"))\n",
        "count = count_occurrences(tup, element)\n",
        "print(\"Count of occurrences:\", count)"
      ],
      "metadata": {
        "colab": {
          "base_uri": "https://localhost:8080/"
        },
        "id": "JPk_WC7c38q5",
        "outputId": "f41a1dd6-cf50-4fac-9d11-81be8d344e7d"
      },
      "execution_count": 41,
      "outputs": [
        {
          "output_type": "stream",
          "name": "stdout",
          "text": [
            "Enter a tuple of integers separated by commas: 12,13,12,45,23,32,45,65,56\n",
            "Enter an element to count its occurrences: 12\n",
            "Count of occurrences: 2\n"
          ]
        }
      ]
    },
    {
      "cell_type": "code",
      "source": [
        "# 30.  Develop a code that prompts the user to input two sets of strings. Then, print the symmetric difference of these two sets.\n",
        "\n",
        "s1 = set(input(\"Enter the first set of strings separated by commas: \").split(','))\n",
        "s2 = set(input(\"Enter the second set of strings separated by commas: \").split(','))\n",
        "symmetric_difference = s1.symmetric_difference(s2)\n",
        "print(\"Symmetric difference of the two sets:\", symmetric_difference)"
      ],
      "metadata": {
        "colab": {
          "base_uri": "https://localhost:8080/"
        },
        "id": "VqZRDSwH4kbL",
        "outputId": "055c736b-77f9-40f3-97aa-3bdbf00e52a1"
      },
      "execution_count": 42,
      "outputs": [
        {
          "output_type": "stream",
          "name": "stdout",
          "text": [
            "Enter the first set of strings separated by commas: 1,2,3,4,5,6,7\n",
            "Enter the second set of strings separated by commas: 4,5,8,9,10,11,12\n",
            "Symmetric difference of the two sets: {'1', '8', '10', '2', '9', '12', '3', '6', '11', '7'}\n"
          ]
        }
      ]
    },
    {
      "cell_type": "code",
      "source": [
        "# 31.  Write a code that takes a list of words as input and returns a dictionary where the keys are unique words\n",
        "#and the values are the frequencies of those words in the input list\n",
        "\n",
        "lis = list(input(\"Enter a list of words separated by commas: \").split(','))\n",
        "word_freq = {}\n",
        "for word in lis:\n",
        "  if word in word_freq:\n",
        "    word_freq[word] += 1\n",
        "  else:\n",
        "    word_freq[word] = 1\n",
        "print(\"Word frequencies:\", word_freq)"
      ],
      "metadata": {
        "colab": {
          "base_uri": "https://localhost:8080/"
        },
        "id": "cgo5driw52Df",
        "outputId": "ee83c2cb-3ac0-4050-9dbe-9c16b546a578"
      },
      "execution_count": 43,
      "outputs": [
        {
          "output_type": "stream",
          "name": "stdout",
          "text": [
            "Enter a list of words separated by commas: Riya,Pwskills,Pwskills,Study,Pwskills,Riya\n",
            "Word frequencies: {'Riya': 2, 'Pwskills': 3, 'Study': 1}\n"
          ]
        }
      ]
    },
    {
      "cell_type": "code",
      "source": [
        "# 32.  Write a code that takes two dictionaries as input and merges them into a single dictionary. If there are common keys, the values should be added together.\n",
        "\n",
        "dict1 = {'a': 1, 'b': 2, 'c': 3}\n",
        "dict2 = {'b': 4, 'c': 5, 'd': 6}\n",
        "\n",
        "for key in dict2:\n",
        "  if key in dict1:\n",
        "    dict1[key] += dict2[key]\n",
        "  else:\n",
        "    dict1[key] = dict2[key]\n",
        "print(dict1)"
      ],
      "metadata": {
        "colab": {
          "base_uri": "https://localhost:8080/"
        },
        "id": "3D-5v9gz7HQP",
        "outputId": "6141e2a0-0471-4e92-a153-45e6cdb48af0"
      },
      "execution_count": 45,
      "outputs": [
        {
          "output_type": "stream",
          "name": "stdout",
          "text": [
            "{'a': 1, 'b': 6, 'c': 8, 'd': 6}\n"
          ]
        }
      ]
    },
    {
      "cell_type": "code",
      "source": [
        "# 33.Write a code to access a value in a nested dictionary. The function should take the dictionary and a list of\n",
        "# keys as input, and return the corresponding value. If any of the keys do not exist in the dictionary, the\n",
        "# function should return None\n",
        "\n",
        "def access_nested_dict(nested_dict, keys):\n",
        "  for key in keys:\n",
        "    if key in nested_dict:\n",
        "      nested_dict = nested_dict[key]\n",
        "    else:\n",
        "      return None\n",
        "  return nested_dict\n",
        "\n",
        "dict1 = {'a': {'b': {'c': 1}}}\n",
        "keys = ['a', 'b', 'c']\n",
        "value = access_nested_dict(dict1, keys)\n",
        "print(value)\n"
      ],
      "metadata": {
        "colab": {
          "base_uri": "https://localhost:8080/"
        },
        "id": "_fhZ9W_T8qPa",
        "outputId": "77312217-5764-4abf-fbe1-2ce082b1b1c9"
      },
      "execution_count": 47,
      "outputs": [
        {
          "output_type": "stream",
          "name": "stdout",
          "text": [
            "1\n"
          ]
        }
      ]
    },
    {
      "cell_type": "code",
      "source": [
        "# 34. Write a code that takes a dictionary as input and returns a sorted version of it based on the values. You\n",
        "# can choose whether to sort in ascending or descending order\n",
        "\n",
        "def sort_dict_by_values(dictionary, ascending=True):\n",
        "  sorted_dict = dict(sorted(dictionary.items(), key=lambda x: x[1], reverse=not ascending))\n",
        "  return sorted_dict\n",
        "\n",
        "dict1 = {'a': 3, 'b': 1, 'c': 2}\n",
        "sorted_dict = sort_dict_by_values(dict1)\n",
        "print(sorted_dict)"
      ],
      "metadata": {
        "colab": {
          "base_uri": "https://localhost:8080/"
        },
        "id": "sw14ttSN-D16",
        "outputId": "f6e29083-84b2-427a-bc64-572a2f59f94f"
      },
      "execution_count": 48,
      "outputs": [
        {
          "output_type": "stream",
          "name": "stdout",
          "text": [
            "{'b': 1, 'c': 2, 'a': 3}\n"
          ]
        }
      ]
    },
    {
      "cell_type": "code",
      "source": [
        "# 35. Write a code that inverts a dictionary, swapping keys and values. Ensure that the inverted dictionary\n",
        "# correctly handles cases where multiple keys have the same value by storing the keys as a list in the\n",
        "# inverted dictionary.\n",
        "\n",
        "def revert_a_dictionary(dictionary):\n",
        "  inverted_dict = {}\n",
        "  for key, value in dictionary.items():\n",
        "    if value in inverted_dict:\n",
        "      inverted_dict[value].append(key)\n",
        "    else:\n",
        "      inverted_dict[value] = [key]\n",
        "  return inverted_dict\n",
        "\n",
        "dict1 = {'a': 1, 'b': 2, 'c': 1}\n",
        "inverted_dict = revert_a_dictionary(dict1)\n",
        "print(inverted_dict)"
      ],
      "metadata": {
        "colab": {
          "base_uri": "https://localhost:8080/"
        },
        "id": "WTTlezNF-VVe",
        "outputId": "a8169c5e-e37a-47e4-aca3-50774720ccd4"
      },
      "execution_count": 49,
      "outputs": [
        {
          "output_type": "stream",
          "name": "stdout",
          "text": [
            "{1: ['a', 'c'], 2: ['b']}\n"
          ]
        }
      ]
    }
  ]
}